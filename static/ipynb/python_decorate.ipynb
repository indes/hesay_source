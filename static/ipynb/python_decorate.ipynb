{
  "nbformat": 4,
  "nbformat_minor": 0,
  "metadata": {
    "colab": {
      "name": "decorate.ipynb",
      "version": "0.3.2",
      "provenance": [],
      "collapsed_sections": [],
      "include_colab_link": true
    },
    "kernelspec": {
      "name": "python3",
      "display_name": "Python 3"
    }
  },
  "cells": [
    {
      "cell_type": "markdown",
      "metadata": {
        "id": "view-in-github",
        "colab_type": "text"
      },
      "source": [
        "[View in Colaboratory](https://colab.research.google.com/github/indes/hesay_source/blob/master/static/ipynb/python_decorate.ipynb)"
      ]
    },
    {
      "metadata": {
        "id": "25yzZjot96X7",
        "colab_type": "text"
      },
      "cell_type": "markdown",
      "source": [
        "# ⚗️Python 装饰器学习"
      ]
    },
    {
      "metadata": {
        "id": "556o0ANg7Uqs",
        "colab_type": "code",
        "colab": {}
      },
      "cell_type": "code",
      "source": [
        "def deco(func):\n",
        "  '''\n",
        "  该函数参数为另外一个函数\n",
        "  '''\n",
        "\tdef inner():\n",
        "\t\tprint('running %s' % func.__name__)\n",
        "\t\treturn func()\n",
        "\treturn inner"
      ],
      "execution_count": 0,
      "outputs": []
    },
    {
      "metadata": {
        "id": "UScDjgsv8BPB",
        "colab_type": "code",
        "colab": {}
      },
      "cell_type": "code",
      "source": [
        "def func():\n",
        "  print('123')"
      ],
      "execution_count": 0,
      "outputs": []
    },
    {
      "metadata": {
        "id": "c_Zq2rvI-go2",
        "colab_type": "code",
        "colab": {
          "base_uri": "https://localhost:8080/",
          "height": 53
        },
        "outputId": "0079b78c-7544-454f-8b19-937568ab9019"
      },
      "cell_type": "code",
      "source": [
        "tele = deco(func)\n",
        "tele()"
      ],
      "execution_count": 4,
      "outputs": [
        {
          "output_type": "stream",
          "text": [
            "running func\n",
            "123\n"
          ],
          "name": "stdout"
        }
      ]
    },
    {
      "metadata": {
        "id": "UI7dlV6h-vEQ",
        "colab_type": "code",
        "colab": {}
      },
      "cell_type": "code",
      "source": [
        ""
      ],
      "execution_count": 0,
      "outputs": []
    }
  ]
}