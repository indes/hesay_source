{
  "nbformat": 4,
  "nbformat_minor": 0,
  "metadata": {
    "colab": {
      "name": "python_decorate.ipynb",
      "version": "0.3.2",
      "provenance": [],
      "collapsed_sections": [],
      "include_colab_link": true
    },
    "kernelspec": {
      "name": "python3",
      "display_name": "Python 3"
    }
  },
  "cells": [
    {
      "cell_type": "markdown",
      "metadata": {
        "id": "view-in-github",
        "colab_type": "text"
      },
      "source": [
        "[View in Colaboratory](https://colab.research.google.com/github/indes/hesay_source/blob/master/static/ipynb/python_decorate.ipynb)"
      ]
    },
    {
      "metadata": {
        "id": "25yzZjot96X7",
        "colab_type": "text"
      },
      "cell_type": "markdown",
      "source": [
        "# 🐍Python 装饰器学习\n",
        "最近在折腾 Telegram Bot 时使用到了 Python 装饰器，顺便记录一下。"
      ]
    },
    {
      "metadata": {
        "id": "Vzto0K-ZDmMi",
        "colab_type": "text"
      },
      "cell_type": "markdown",
      "source": [
        "## 什么是装饰器\n",
        "\n",
        "装饰器是一个可调用的对象，参数为另一个被装饰的函数，返回一个可调用的对象或函数。\n",
        "\n",
        "我们先看看 Python 装饰器是干什么的，首先我们先定义一个这样的函数：\n"
      ]
    },
    {
      "metadata": {
        "id": "556o0ANg7Uqs",
        "colab_type": "code",
        "colab": {}
      },
      "cell_type": "code",
      "source": [
        "def deco(func):\n",
        "    '''\n",
        "    该函数参数为另外一个函数\n",
        "    '''\n",
        "    def inner():\n",
        "        print('running %s' % func.__name__)\n",
        "        return func()\n",
        "    return inner"
      ],
      "execution_count": 0,
      "outputs": []
    },
    {
      "metadata": {
        "id": "tnQJ6cUHEOp5",
        "colab_type": "text"
      },
      "cell_type": "markdown",
      "source": [
        "这里的 deco 函数其实就是一个装饰器，将函数作为参数传入，就能使用该装饰器。以下两段代码是等价的，输出的结果一样。"
      ]
    },
    {
      "metadata": {
        "id": "UI7dlV6h-vEQ",
        "colab_type": "code",
        "colab": {
          "base_uri": "https://localhost:8080/",
          "height": 50
        },
        "outputId": "01024639-c875-49bb-e830-8a420dace14a"
      },
      "cell_type": "code",
      "source": [
        "# 普通写法\n",
        "def func1():\n",
        "    print('running func1()')\n",
        "\n",
        "func1 = deco(func1)\n",
        "func1()"
      ],
      "execution_count": 2,
      "outputs": [
        {
          "output_type": "stream",
          "text": [
            "running func1\n",
            "running func1()\n"
          ],
          "name": "stdout"
        }
      ]
    },
    {
      "metadata": {
        "id": "9HGRY2qSELqb",
        "colab_type": "code",
        "colab": {
          "base_uri": "https://localhost:8080/",
          "height": 50
        },
        "outputId": "a383b8d2-4be1-48c7-f62a-a92a9ff6ddee"
      },
      "cell_type": "code",
      "source": [
        "# 装饰器写法\n",
        "@deco\n",
        "def func2():\n",
        "\tprint('running func2()')\n",
        "\n",
        "func2()"
      ],
      "execution_count": 3,
      "outputs": [
        {
          "output_type": "stream",
          "text": [
            "running func2\n",
            "running func2()\n"
          ],
          "name": "stdout"
        }
      ]
    },
    {
      "metadata": {
        "id": "XgqnrCzaEhWR",
        "colab_type": "text"
      },
      "cell_type": "markdown",
      "source": [
        "从上面哪个例子可以发现，Python 装饰器其实就是语法糖。正是因为这样所以使用装饰器的时候只要在被装饰函数上面一行使用 @ 符号 + 装饰器就可以了，可以省去一大段代码。"
      ]
    },
    {
      "metadata": {
        "id": "h4c_-LypGAJP",
        "colab_type": "text"
      },
      "cell_type": "markdown",
      "source": [
        "## 实现一个简单的装饰器\n",
        "了解了什么是装饰器后，我们来实习一个简单的装饰器。该装饰器可以打印被装饰的函数的运行时间、传入参数和运行结果。"
      ]
    },
    {
      "metadata": {
        "id": "6fMJOSe5EN_Y",
        "colab_type": "code",
        "colab": {}
      },
      "cell_type": "code",
      "source": [
        "import time\n",
        "\n",
        "def timethis(func):\n",
        "    def wrapper(*args):\n",
        "        start = time.time()\n",
        "        result = func(*args)\n",
        "        end = time.time()\n",
        "        args_str = ', '.join(repr(arg) for arg in args)\n",
        "        print('[%0.8fs] %s(%s) -> %r' %(end-start, func.__name__, args_str, result))\n",
        "        return result\n",
        "    return wrapper"
      ],
      "execution_count": 0,
      "outputs": []
    },
    {
      "metadata": {
        "id": "162HruGCNVsA",
        "colab_type": "text"
      },
      "cell_type": "markdown",
      "source": [
        "使用该装饰器，这里给出两个示例，求累加与求第 n 个斐波那契数。"
      ]
    },
    {
      "metadata": {
        "id": "2oJcLBxEKpJB",
        "colab_type": "code",
        "colab": {
          "base_uri": "https://localhost:8080/",
          "height": 50
        },
        "outputId": "b5139c86-d365-4261-85fa-99c408ab12eb"
      },
      "cell_type": "code",
      "source": [
        "@timethis\n",
        "def accumulate(end):\n",
        "    count = 0\n",
        "    for i in range(end):\n",
        "        count = count + i\n",
        "    return count\n",
        "\n",
        "accumulate(100)"
      ],
      "execution_count": 5,
      "outputs": [
        {
          "output_type": "stream",
          "text": [
            "[0.00000906s] accumulate(100) -> 4950\n"
          ],
          "name": "stdout"
        },
        {
          "output_type": "execute_result",
          "data": {
            "text/plain": [
              "4950"
            ]
          },
          "metadata": {
            "tags": []
          },
          "execution_count": 5
        }
      ]
    },
    {
      "metadata": {
        "id": "GTuMeqf4KxxJ",
        "colab_type": "code",
        "colab": {
          "base_uri": "https://localhost:8080/",
          "height": 454
        },
        "outputId": "4d7a8ad3-d82c-43d0-c923-fa960e4356cb"
      },
      "cell_type": "code",
      "source": [
        "@timethis\n",
        "def fibonacci(n):\n",
        "    if n < 2:\n",
        "        return n\n",
        "    return fibonacci(n-2) + fibonacci(n-1)\n",
        "\n",
        "fibonacci(6)"
      ],
      "execution_count": 6,
      "outputs": [
        {
          "output_type": "stream",
          "text": [
            "[0.00000072s] fibonacci(0) -> 0\n",
            "[0.00000119s] fibonacci(1) -> 1\n",
            "[0.00263357s] fibonacci(2) -> 1\n",
            "[0.00000048s] fibonacci(1) -> 1\n",
            "[0.00000095s] fibonacci(0) -> 0\n",
            "[0.00000072s] fibonacci(1) -> 1\n",
            "[0.00051475s] fibonacci(2) -> 1\n",
            "[0.00090528s] fibonacci(3) -> 2\n",
            "[0.00434542s] fibonacci(4) -> 3\n",
            "[0.00000048s] fibonacci(1) -> 1\n",
            "[0.00000072s] fibonacci(0) -> 0\n",
            "[0.00000143s] fibonacci(1) -> 1\n",
            "[0.00066710s] fibonacci(2) -> 1\n",
            "[0.00126076s] fibonacci(3) -> 2\n",
            "[0.00000024s] fibonacci(0) -> 0\n",
            "[0.00000072s] fibonacci(1) -> 1\n",
            "[0.00159335s] fibonacci(2) -> 1\n",
            "[0.00000048s] fibonacci(1) -> 1\n",
            "[0.00000072s] fibonacci(0) -> 0\n",
            "[0.00000048s] fibonacci(1) -> 1\n",
            "[0.00008130s] fibonacci(2) -> 1\n",
            "[0.00019741s] fibonacci(3) -> 2\n",
            "[0.00191045s] fibonacci(4) -> 3\n",
            "[0.00326824s] fibonacci(5) -> 5\n",
            "[0.00772119s] fibonacci(6) -> 8\n"
          ],
          "name": "stdout"
        },
        {
          "output_type": "execute_result",
          "data": {
            "text/plain": [
              "8"
            ]
          },
          "metadata": {
            "tags": []
          },
          "execution_count": 6
        }
      ]
    },
    {
      "metadata": {
        "id": "PfQJCvZ2Pcu2",
        "colab_type": "text"
      },
      "cell_type": "markdown",
      "source": [
        "### 保留函数元信息\n",
        "使用装饰器时，原函数的元信息都会丢失，这个时候我们就需要使用 `functools` 库中的 `@wraps` 装饰器来注解底层包装函数。建议在定义自己的装饰器的时候都加上这个装饰器。"
      ]
    },
    {
      "metadata": {
        "id": "aaQaZecgQRye",
        "colab_type": "text"
      },
      "cell_type": "markdown",
      "source": [
        "比如，之前我们定义的装饰器就要修改为这样："
      ]
    },
    {
      "metadata": {
        "id": "wnOOMNnkQHUz",
        "colab_type": "code",
        "colab": {}
      },
      "cell_type": "code",
      "source": [
        "import time\n",
        "from functools import wraps\n",
        "\n",
        "def timethis2(func):\n",
        "    @wraps(func)\n",
        "    def wrapper(*args):\n",
        "        start = time.time()\n",
        "        result = func(*args)\n",
        "        end = time.time()\n",
        "        args_str = ', '.join(repr(arg) for arg in args)\n",
        "        print('[%0.8fs] %s(%s) -> %r' %(end-start, func.__name__, args_str, result))\n",
        "        return result\n",
        "    return wrapper"
      ],
      "execution_count": 0,
      "outputs": []
    },
    {
      "metadata": {
        "id": "eKxqrYbgQawy",
        "colab_type": "code",
        "colab": {}
      },
      "cell_type": "code",
      "source": [
        "# 使用 @wraps 了的装饰器 \n",
        "@timethis2\n",
        "def accumulate2(end):\n",
        "    count = 0\n",
        "    for i in range(end):\n",
        "        count = count + i\n",
        "    return count"
      ],
      "execution_count": 0,
      "outputs": []
    },
    {
      "metadata": {
        "id": "-QYkr5o0QjMy",
        "colab_type": "code",
        "colab": {
          "base_uri": "https://localhost:8080/",
          "height": 34
        },
        "outputId": "4b795025-d262-415f-cf0b-5016743bf991"
      },
      "cell_type": "code",
      "source": [
        "accumulate2.__name__, accumulate.__name__"
      ],
      "execution_count": 9,
      "outputs": [
        {
          "output_type": "execute_result",
          "data": {
            "text/plain": [
              "('accumulate2', 'wrapper')"
            ]
          },
          "metadata": {
            "tags": []
          },
          "execution_count": 9
        }
      ]
    },
    {
      "metadata": {
        "id": "w13NsP4LiPfK",
        "colab_type": "text"
      },
      "cell_type": "markdown",
      "source": [
        "从上面的输出可以看出使用了@wraps装饰器定义的装饰器保留了原函数的元信息。"
      ]
    },
    {
      "metadata": {
        "id": "gCz8nC9vO1v9",
        "colab_type": "text"
      },
      "cell_type": "markdown",
      "source": [
        "## 解除装饰器\n",
        "\n",
        "有时候需要使用未被包装的函数，可以使用`__wrapped__`属性（只有使用了`@wraps`定义的装饰器才有这个属性）\n"
      ]
    },
    {
      "metadata": {
        "id": "79G-6RNUOKSQ",
        "colab_type": "code",
        "colab": {
          "base_uri": "https://localhost:8080/",
          "height": 34
        },
        "outputId": "b186872a-82cb-45ce-b69c-227ca44120cd"
      },
      "cell_type": "code",
      "source": [
        "accumulate2.__wrapped__(6)"
      ],
      "execution_count": 10,
      "outputs": [
        {
          "output_type": "execute_result",
          "data": {
            "text/plain": [
              "15"
            ]
          },
          "metadata": {
            "tags": []
          },
          "execution_count": 10
        }
      ]
    },
    {
      "metadata": {
        "id": "FpznH6XJsBFs",
        "colab_type": "text"
      },
      "cell_type": "markdown",
      "source": [
        "未使用`@wrapped`定义的装饰器所装饰的函数没有该属性。"
      ]
    },
    {
      "metadata": {
        "id": "47AbG81bPFIx",
        "colab_type": "code",
        "colab": {
          "base_uri": "https://localhost:8080/",
          "height": 165
        },
        "outputId": "e2524e38-4429-450b-be12-c3110596b550"
      },
      "cell_type": "code",
      "source": [
        "accumulate.__wrapped__(6)"
      ],
      "execution_count": 11,
      "outputs": [
        {
          "output_type": "error",
          "ename": "AttributeError",
          "evalue": "ignored",
          "traceback": [
            "\u001b[0;31m---------------------------------------------------------------------------\u001b[0m",
            "\u001b[0;31mAttributeError\u001b[0m                            Traceback (most recent call last)",
            "\u001b[0;32m<ipython-input-11-6bb343b3867e>\u001b[0m in \u001b[0;36m<module>\u001b[0;34m()\u001b[0m\n\u001b[0;32m----> 1\u001b[0;31m \u001b[0maccumulate\u001b[0m\u001b[0;34m.\u001b[0m\u001b[0m__wrapped__\u001b[0m\u001b[0;34m(\u001b[0m\u001b[0;36m6\u001b[0m\u001b[0;34m)\u001b[0m\u001b[0;34m\u001b[0m\u001b[0m\n\u001b[0m",
            "\u001b[0;31mAttributeError\u001b[0m: 'function' object has no attribute '__wrapped__'"
          ]
        }
      ]
    },
    {
      "metadata": {
        "id": "Pc_1f37DsRwT",
        "colab_type": "text"
      },
      "cell_type": "markdown",
      "source": [
        "## 带参数的装饰器\n",
        "\n",
        "如果想给装饰器添加参数，可以参考下面的例子。"
      ]
    },
    {
      "metadata": {
        "id": "MG1mcUKPxoTx",
        "colab_type": "text"
      },
      "cell_type": "markdown",
      "source": [
        "这里我们还是定义一个打印运行时间的装饰器，这里我们定义的时候使用了一个参数 display_result, 当该参数为 False 时不打印函数运行结果。"
      ]
    },
    {
      "metadata": {
        "id": "7utdu_A5xiDq",
        "colab_type": "code",
        "colab": {}
      },
      "cell_type": "code",
      "source": [
        "def timethis3(display_result=True):\n",
        "    def decorate(func):\n",
        "        @wraps(func)\n",
        "        def wrapper(*args):\n",
        "            start = time.time()\n",
        "            result = func(*args)\n",
        "            end = time.time()\n",
        "            args_str = ', '.join(repr(arg) for arg in args)\n",
        "            if(display_result):\n",
        "                print('[%0.8fs] %s(%s) -> %r' %(end-start, func.__name__, args_str, result))\n",
        "            else:\n",
        "                print('[%0.8fs] %s(%s)' %(end-start, func.__name__, args_str))\n",
        "            \n",
        "            return result\n",
        "        return wrapper\n",
        "    return decorate"
      ],
      "execution_count": 0,
      "outputs": []
    },
    {
      "metadata": {
        "id": "q7YNFvS94VnV",
        "colab_type": "text"
      },
      "cell_type": "markdown",
      "source": [
        "在定义被装饰的函数的时候，可以在装饰器后面添加参数。"
      ]
    },
    {
      "metadata": {
        "id": "tBTJi9IRyrA3",
        "colab_type": "code",
        "colab": {
          "base_uri": "https://localhost:8080/",
          "height": 50
        },
        "outputId": "297b3972-0f0c-483a-d4f7-a088a2ff0e6b"
      },
      "cell_type": "code",
      "source": [
        "@timethis3(display_result=False)\n",
        "def accumulate3(end):\n",
        "    count = 0\n",
        "    for i in range(end):\n",
        "        count = count + i\n",
        "    return count\n",
        "\n",
        "accumulate3(100)"
      ],
      "execution_count": 13,
      "outputs": [
        {
          "output_type": "stream",
          "text": [
            "[0.00000882s] accumulate3(100)\n"
          ],
          "name": "stdout"
        },
        {
          "output_type": "execute_result",
          "data": {
            "text/plain": [
              "4950"
            ]
          },
          "metadata": {
            "tags": []
          },
          "execution_count": 13
        }
      ]
    },
    {
      "metadata": {
        "id": "t-rTiKIBy6Sm",
        "colab_type": "code",
        "colab": {
          "base_uri": "https://localhost:8080/",
          "height": 50
        },
        "outputId": "05bfe535-6a00-46d7-8f0e-05e6e2055aa2"
      },
      "cell_type": "code",
      "source": [
        "@timethis3(display_result=True)\n",
        "def accumulate4(end):\n",
        "    count = 0\n",
        "    for i in range(end):\n",
        "        count = count + i\n",
        "    return count\n",
        "\n",
        "accumulate4(100)"
      ],
      "execution_count": 14,
      "outputs": [
        {
          "output_type": "stream",
          "text": [
            "[0.00000787s] accumulate4(100) -> 4950\n"
          ],
          "name": "stdout"
        },
        {
          "output_type": "execute_result",
          "data": {
            "text/plain": [
              "4950"
            ]
          },
          "metadata": {
            "tags": []
          },
          "execution_count": 14
        }
      ]
    },
    {
      "metadata": {
        "id": "5VhZKfgC4jkM",
        "colab_type": "text"
      },
      "cell_type": "markdown",
      "source": [
        "## 装饰器叠加\n",
        "\n",
        "有时候需要使用到多个装饰器，这个时候该如何定义呢？\n",
        "直接按顺序将装饰器放在函数上面就行了。"
      ]
    },
    {
      "metadata": {
        "id": "5llNGUND4lyb",
        "colab_type": "code",
        "colab": {}
      },
      "cell_type": "code",
      "source": [
        "@d1\n",
        "@d2\n",
        "def f():\n",
        "    pass"
      ],
      "execution_count": 0,
      "outputs": []
    },
    {
      "metadata": {
        "id": "2b7_L84N5AzM",
        "colab_type": "text"
      },
      "cell_type": "markdown",
      "source": [
        "等价于以下代码："
      ]
    },
    {
      "metadata": {
        "id": "dXK7ln0s5LD5",
        "colab_type": "code",
        "colab": {}
      },
      "cell_type": "code",
      "source": [
        "def f()\n",
        "    pass\n",
        "\n",
        "f = d1(d2(f))"
      ],
      "execution_count": 0,
      "outputs": []
    }
  ]
}